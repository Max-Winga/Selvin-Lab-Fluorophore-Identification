{
 "cells": [
  {
   "cell_type": "code",
   "execution_count": 1,
   "metadata": {},
   "outputs": [],
   "source": [
    "import numpy as np\n",
    "import torch\n",
    "import torch.nn as nn\n",
    "import torch.nn.functional as F\n",
    "import torchvision\n",
    "import torchvision.transforms as transforms\n",
    "import copy\n",
    "import matplotlib.pyplot as plt\n",
    "\n",
    "from tqdm import tqdm\n",
    "from torch.utils.data import Dataset"
   ]
  },
  {
   "attachments": {},
   "cell_type": "markdown",
   "metadata": {},
   "source": [
    "# Main Dataset Construction"
   ]
  },
  {
   "cell_type": "code",
   "execution_count": 2,
   "metadata": {},
   "outputs": [
    {
     "name": "stdout",
     "output_type": "stream",
     "text": [
      "100204\n",
      "47498\n"
     ]
    }
   ],
   "source": [
    "with open('Category-Testing\\A4_category_default.npy', 'rb') as f:\n",
    "    A4_PSFs_raw = np.load(f)\n",
    "with open('Category-Testing\\A6_category_default.npy', 'rb') as f:\n",
    "    A6_PSFs_raw = np.load(f)\n",
    "\n",
    "print(len(A4_PSFs_raw))\n",
    "print(len(A6_PSFs_raw))"
   ]
  },
  {
   "cell_type": "code",
   "execution_count": 20,
   "metadata": {},
   "outputs": [],
   "source": [
    "# Reduce the size of the larger dataset (A4-640)\n",
    "A4_indices = np.random.choice(range(len(A4_PSFs_raw)), len(A6_PSFs_raw))\n",
    "A4_PSFs_reduced = A4_PSFs_raw[A4_indices]\n",
    "\n",
    "# Combine, create labels, and reshuffle all\n",
    "all_data = np.concatenate((A4_PSFs_reduced, A6_PSFs_raw)).astype(np.int32)\n",
    "all_labels = np.concatenate((np.zeros(len(A4_PSFs_reduced)), np.ones(len(A6_PSFs_raw))))\n",
    "\n",
    "random_seed = 1 # random seed for reproducibility\n",
    "np.random.seed(random_seed)\n",
    "all_indices = np.random.choice(np.arange(len(all_data)), size=len(all_data), replace=False)"
   ]
  },
  {
   "cell_type": "code",
   "execution_count": 21,
   "metadata": {},
   "outputs": [
    {
     "name": "stdout",
     "output_type": "stream",
     "text": [
      "torch.Size([80746, 1, 29, 29])\n",
      "torch.Size([14250, 1, 29, 29])\n",
      "<class '__main__.PSFDataset'>\n",
      "(94996, 29, 29)\n",
      "<class 'numpy.ndarray'>\n"
     ]
    }
   ],
   "source": [
    "class PSFDataset(Dataset):\n",
    "    def __init__(self, train, split=0.85):\n",
    "        if train:\n",
    "            self.images = torch.from_numpy(all_data[all_indices[:int(split*len(all_indices))]]).unsqueeze(1)\n",
    "            self.labels = torch.from_numpy(all_labels[all_indices[:int(split*len(all_indices))]]).long()\n",
    "        else:\n",
    "            self.images = torch.from_numpy(all_data[all_indices[int(split*len(all_indices)):]]).unsqueeze(1)\n",
    "            self.labels = torch.from_numpy(all_labels[all_indices[int(split*len(all_indices)):]]).long()\n",
    "        print(self.images.shape)\n",
    "        \n",
    "    def __len__(self):\n",
    "        return len(self.images)\n",
    "    \n",
    "    def __getitem__(self, idx):\n",
    "        return self.images[idx].float(), self.labels[idx]\n",
    "\n",
    "# make training set\n",
    "PSF_training = PSFDataset(True)\n",
    "# make test set\n",
    "PSF_testing = PSFDataset(False)\n",
    "\n",
    "print(type(PSF_training))\n",
    "print(all_data.shape)\n",
    "print(type(all_data))"
   ]
  },
  {
   "cell_type": "code",
   "execution_count": 5,
   "metadata": {},
   "outputs": [
    {
     "name": "stdout",
     "output_type": "stream",
     "text": [
      "<class 'torch.Tensor'>\n",
      "tensor(0.)\n",
      "<class 'torch.Tensor'>\n"
     ]
    }
   ],
   "source": [
    "# print(PSF_training[0][0])\n",
    "print(type(PSF_training[0][1]))\n",
    "print(PSF_training[0][0][0][0, 0])\n",
    "print(type(PSF_training[0][0][0][0, 0]))"
   ]
  },
  {
   "attachments": {},
   "cell_type": "markdown",
   "metadata": {},
   "source": [
    "# Model Code"
   ]
  },
  {
   "cell_type": "code",
   "execution_count": 7,
   "metadata": {},
   "outputs": [],
   "source": [
    "# model code\n",
    "class CNN(nn.Module):\n",
    "    # constructor\n",
    "    def __init__(self, channel_widths, pooling, nonlinearity=nn.ReLU()):\n",
    "        super(CNN, self).__init__()\n",
    "        layers = []\n",
    "        for i in range(len(channel_widths)-2):\n",
    "            # convolution layer\n",
    "            # you can play around with kernel_size, padding, and stride if you like\n",
    "            # kernel_size is most likely to have an impact\n",
    "            # arguments are: Conv2d(n_input_channels, n_output_channels, \n",
    "            #                       filter_side_length, padding, stride_length)\n",
    "            layers.append(nn.Conv2d(channel_widths[i], channel_widths[i+1],\n",
    "                                    kernel_size=5, padding=2, stride=1, bias=False))\n",
    "            layers.append(nonlinearity) # non-linearity\n",
    "        # add final layer\n",
    "        layers.append(nn.Conv2d(channel_widths[-2], channel_widths[-1],\n",
    "                                    kernel_size=5, padding=2, stride=1, bias=False))\n",
    "        self.backbone = nn.Sequential(*layers)\n",
    "        self.global_pooling = pooling # reduce each of the H x W feature maps to a single pooled value\n",
    "        self.pool_size = pooling.output_size[0]*pooling.output_size[1]\n",
    "        self.linear = nn.Linear(channel_widths[-1]*self.pool_size, 2)  # score each class to obtain logits\n",
    "    # forward pass\n",
    "    def forward(self, x):\n",
    "        B = x.size(0) # number of input images\n",
    "        features = self.backbone(x) # get feature maps (B, N_feature_maps, H, W)\n",
    "        pooled_features = self.global_pooling(features) # (B, N_feature_maps, 1, 1)\n",
    "        pooled_features = pooled_features.view(B, -1) # (B, N_feature_maps)\n",
    "        logits = self.linear(pooled_features) # (B, N_classes)\n",
    "        return logits"
   ]
  },
  {
   "cell_type": "code",
   "execution_count": 29,
   "metadata": {},
   "outputs": [],
   "source": [
    "def train(model, all_data, training_indices, validation_indices, config, verbose=False):\n",
    "    # unpack configuration parameters\n",
    "    lr = config['lr'] # learning rate\n",
    "    n_epochs = config['n_epochs'] # number of passes (epochs) through the training data\n",
    "    batch_size = config['batch_size']\n",
    "    \n",
    "    # set up optimizer and loss function\n",
    "    optimizer = torch.optim.SGD(model.parameters(), lr=lr, weight_decay=1e-4)\n",
    "    criterion = nn.CrossEntropyLoss()\n",
    "    \n",
    "    # set up dataloaders\n",
    "    train_sampler = torch.utils.data.SubsetRandomSampler(training_indices)\n",
    "    val_sampler = torch.utils.data.SubsetRandomSampler(validation_indices)\n",
    "    trainloader = torch.utils.data.DataLoader(all_data, batch_size=batch_size, sampler=train_sampler)\n",
    "    valloader = torch.utils.data.DataLoader(all_data, batch_size=batch_size, sampler=val_sampler)\n",
    "    \n",
    "    # training loop\n",
    "    train_losses = []\n",
    "    val_losses = []\n",
    "    train_accuracies = []\n",
    "    val_accuracies = []\n",
    "    best_val_accuracy = 0\n",
    "    best_model = None\n",
    "    for n in range(n_epochs):\n",
    "        # set model to training mode (unnecessary for this model, but good practice)\n",
    "        model.train()\n",
    "        epoch_loss = 0\n",
    "        epoch_acc = 0\n",
    "        for images, targets in trainloader:\n",
    "            optimizer.zero_grad() # zero out gradients\n",
    "            class_logits = model(images)\n",
    "            loss = criterion(class_logits, targets)\n",
    "            loss.backward() # backpropagate to compute gradients\n",
    "            optimizer.step() # update parameters using stochastic gradient descent\n",
    "            # update epoch statistics\n",
    "            epoch_loss += loss.item() # batch loss\n",
    "            epoch_acc += (class_logits.data.max(1)[1]).eq(targets).sum().item() # number of correct predictions\n",
    "            \n",
    "        # validation\n",
    "        epoch_loss /= len(trainloader)\n",
    "        epoch_acc /= len(training_indices)\n",
    "        val_loss, val_acc = validate(model, valloader, criterion)\n",
    "        val_loss /= len(valloader)\n",
    "        val_acc /= len(validation_indices)\n",
    "        \n",
    "        # log epoch information\n",
    "        train_losses.append(epoch_loss)\n",
    "        train_accuracies.append(epoch_acc)\n",
    "        val_losses.append(val_loss)\n",
    "        val_accuracies.append(val_acc)\n",
    "        # save best model, if necessary\n",
    "        if val_acc > best_val_accuracy:\n",
    "            best_model = copy.deepcopy(model)\n",
    "        if verbose and (n+1) % (int(n_epochs/20)) == 0:\n",
    "            print('Epoch {}/{}: (Train) Loss = {:.4e}, Acc = {:.4f}, (Val) Loss = {:.4e}, Acc = {:.4f}'.format(\n",
    "                   n+1,\n",
    "                   n_epochs,\n",
    "                   epoch_loss,\n",
    "                   epoch_acc,\n",
    "                   val_loss,\n",
    "                   val_acc))\n",
    "        \n",
    "        \n",
    "    return (np.array(train_losses),\n",
    "            np.array(train_accuracies),\n",
    "            np.array(val_losses),\n",
    "            np.array(val_accuracies),\n",
    "            best_model)\n",
    "        \n",
    "def validate(model, dataloader, criterion):\n",
    "    val_loss = 0\n",
    "    val_acc = 0\n",
    "    # set model to eval mode (again, unnecessary here but good practice)\n",
    "    model.eval()\n",
    "    # don't compute gradients since we are not updating the model, saves a lot of computation\n",
    "    with torch.no_grad():\n",
    "        for images, targets in dataloader:\n",
    "            class_logits = model(images)\n",
    "            loss = criterion(class_logits, targets)\n",
    "            val_loss += loss.item()\n",
    "            val_acc += (class_logits.data.max(1)[1]).eq(targets).sum().item()\n",
    "    return val_loss, val_acc\n",
    "\n",
    "def test(model, dataset):\n",
    "    # test best model on withheld test data\n",
    "    dataloader = torch.utils.data.DataLoader(dataset, batch_size=128)\n",
    "    test_acc = 0\n",
    "    model.eval()\n",
    "    with torch.no_grad():\n",
    "        for images, targets in dataloader:\n",
    "            class_logits = model(images)\n",
    "            test_acc += (class_logits.data.max(1)[1]).eq(targets).sum().item()\n",
    "    return test_acc/len(dataset)\n",
    "\n",
    "def test_classes(model, dataset):\n",
    "    # Test best model on withheld test data\n",
    "    dataloader = torch.utils.data.DataLoader(dataset, batch_size=128)\n",
    "\n",
    "    correct_class_0 = 0\n",
    "    total_class_0 = 0\n",
    "\n",
    "    correct_class_1 = 0\n",
    "    total_class_1 = 0\n",
    "\n",
    "    model.eval()\n",
    "\n",
    "    with torch.no_grad():\n",
    "        for images, targets in dataloader:\n",
    "            class_logits = model(images)\n",
    "\n",
    "            preds = class_logits.data.max(1)[1]\n",
    "\n",
    "            correct_class_0 += ((preds == targets) & (targets == 0)).sum().item()\n",
    "            total_class_0 += (targets == 0).sum().item()\n",
    "\n",
    "            correct_class_1 += ((preds == targets) & (targets == 1)).sum().item()\n",
    "            total_class_1 += (targets == 1).sum().item()\n",
    "\n",
    "    print(f'Accuracy for Class 0: {correct_class_0 / total_class_0 * 100}%')\n",
    "    print(f'Accuracy for Class 1: {correct_class_1 / total_class_1 * 100}%')\n",
    "\n",
    "    overall_accuracy = (correct_class_0 + correct_class_1) / (total_class_0 + total_class_1)\n",
    "    print(f'Overall Accuracy: {overall_accuracy * 100}%')\n"
   ]
  },
  {
   "attachments": {},
   "cell_type": "markdown",
   "metadata": {},
   "source": [
    "# Training"
   ]
  },
  {
   "cell_type": "code",
   "execution_count": 19,
   "metadata": {},
   "outputs": [
    {
     "name": "stdout",
     "output_type": "stream",
     "text": [
      "Epoch 1/30: (Train) Loss = 1.2715e+02, Acc = 0.4684, (Val) Loss = 7.9869e+01, Acc = 0.4646\n",
      "Epoch 2/30: (Train) Loss = 7.2758e+01, Acc = 0.4908, (Val) Loss = 6.3727e+01, Acc = 0.5074\n",
      "Epoch 3/30: (Train) Loss = 5.9329e+01, Acc = 0.5330, (Val) Loss = 5.4483e+01, Acc = 0.5486\n",
      "Epoch 4/30: (Train) Loss = 5.1240e+01, Acc = 0.5736, (Val) Loss = 4.8984e+01, Acc = 0.5878\n",
      "Epoch 5/30: (Train) Loss = 4.6897e+01, Acc = 0.6000, (Val) Loss = 4.5894e+01, Acc = 0.6262\n",
      "Epoch 6/30: (Train) Loss = 4.4427e+01, Acc = 0.6234, (Val) Loss = 4.3927e+01, Acc = 0.6394\n",
      "Epoch 7/30: (Train) Loss = 4.2532e+01, Acc = 0.6376, (Val) Loss = 4.2872e+01, Acc = 0.6540\n",
      "Epoch 8/30: (Train) Loss = 4.1400e+01, Acc = 0.6484, (Val) Loss = 4.1691e+01, Acc = 0.6514\n",
      "Epoch 9/30: (Train) Loss = 4.0346e+01, Acc = 0.6544, (Val) Loss = 4.0852e+01, Acc = 0.6576\n",
      "Epoch 10/30: (Train) Loss = 3.9363e+01, Acc = 0.6602, (Val) Loss = 4.0336e+01, Acc = 0.6684\n",
      "Epoch 11/30: (Train) Loss = 3.8816e+01, Acc = 0.6668, (Val) Loss = 3.9687e+01, Acc = 0.6690\n",
      "Epoch 12/30: (Train) Loss = 3.8238e+01, Acc = 0.6700, (Val) Loss = 3.9195e+01, Acc = 0.6696\n",
      "Epoch 13/30: (Train) Loss = 3.7684e+01, Acc = 0.6726, (Val) Loss = 3.8731e+01, Acc = 0.6694\n",
      "Epoch 14/30: (Train) Loss = 3.7248e+01, Acc = 0.6756, (Val) Loss = 3.8390e+01, Acc = 0.6752\n",
      "Epoch 15/30: (Train) Loss = 3.6593e+01, Acc = 0.6774, (Val) Loss = 3.8338e+01, Acc = 0.6644\n",
      "Epoch 16/30: (Train) Loss = 3.6476e+01, Acc = 0.6818, (Val) Loss = 3.7719e+01, Acc = 0.6766\n",
      "Epoch 17/30: (Train) Loss = 3.5859e+01, Acc = 0.6810, (Val) Loss = 3.7608e+01, Acc = 0.6670\n",
      "Epoch 18/30: (Train) Loss = 3.5558e+01, Acc = 0.6808, (Val) Loss = 3.7147e+01, Acc = 0.6812\n",
      "Epoch 19/30: (Train) Loss = 3.5108e+01, Acc = 0.6852, (Val) Loss = 3.7463e+01, Acc = 0.6600\n",
      "Epoch 20/30: (Train) Loss = 3.4889e+01, Acc = 0.6852, (Val) Loss = 3.6550e+01, Acc = 0.6790\n",
      "Epoch 21/30: (Train) Loss = 3.4471e+01, Acc = 0.6854, (Val) Loss = 3.6342e+01, Acc = 0.6816\n",
      "Epoch 22/30: (Train) Loss = 3.4312e+01, Acc = 0.6856, (Val) Loss = 3.6099e+01, Acc = 0.6814\n",
      "Epoch 23/30: (Train) Loss = 3.3934e+01, Acc = 0.6890, (Val) Loss = 3.5807e+01, Acc = 0.6794\n",
      "Epoch 24/30: (Train) Loss = 3.3938e+01, Acc = 0.6878, (Val) Loss = 3.5571e+01, Acc = 0.6792\n",
      "Epoch 25/30: (Train) Loss = 3.3579e+01, Acc = 0.6904, (Val) Loss = 3.5345e+01, Acc = 0.6804\n",
      "Epoch 26/30: (Train) Loss = 3.3174e+01, Acc = 0.6924, (Val) Loss = 3.5206e+01, Acc = 0.6760\n",
      "Epoch 27/30: (Train) Loss = 3.3115e+01, Acc = 0.6914, (Val) Loss = 3.5151e+01, Acc = 0.6726\n",
      "Epoch 28/30: (Train) Loss = 3.2806e+01, Acc = 0.6930, (Val) Loss = 3.4832e+01, Acc = 0.6784\n",
      "Epoch 29/30: (Train) Loss = 3.2632e+01, Acc = 0.6930, (Val) Loss = 3.4666e+01, Acc = 0.6874\n",
      "Epoch 30/30: (Train) Loss = 3.2458e+01, Acc = 0.6930, (Val) Loss = 3.4534e+01, Acc = 0.6888\n"
     ]
    }
   ],
   "source": [
    "# metrics visualization\n",
    "\n",
    "# data\n",
    "# you can try playing around with more or less training data\n",
    "N_training_examples = 5000 # 100 examples per class\n",
    "N_validation_examples = 5000 # 100 examples per class\n",
    "random_seed = 1 # random seed for reproducibility\n",
    "np.random.seed(random_seed)\n",
    "all_train_indices = np.random.choice(np.arange(len(PSF_training)),\n",
    "                               size=N_training_examples+N_validation_examples)\n",
    "training_indices = all_train_indices[:N_training_examples]\n",
    "validation_indices = all_train_indices[N_training_examples:]\n",
    "\n",
    "# configuration parameters, you can play around with these\n",
    "config = {'lr': 5e-8,\n",
    "          'n_epochs': 30,\n",
    "          'batch_size': 200}\n",
    "pooling = 'max' # 'max' or 'mean'\n",
    "\n",
    "if pooling == 'max':\n",
    "    pool_fcn = nn.AdaptiveMaxPool2d((1, 1))\n",
    "else:\n",
    "    pool_fcn = nn.AdaptiveAvgPool2d((1, 1))\n",
    "# model\n",
    "# your model will have length(channel_widths)-1 layers\n",
    "channel_widths = [1, 32, 32, 16] # must start with a 1 and be at least length--2\n",
    "model = CNN(channel_widths, pool_fcn)\n",
    "\n",
    "# Train Model Fresh\n",
    "verbose = True # print metrics during training, False for no printing\n",
    "train_losses, train_accs, val_losses, val_accs, best_model = train(model,\n",
    "                                                                   PSF_training,\n",
    "                                                                   training_indices,\n",
    "                                                                   validation_indices,\n",
    "                                                                   config,\n",
    "                                                                   verbose=verbose)\n",
    "# Reload Previously Trained Model (Comment out training function above)\n",
    "# model = torch.load('Models/model1.pt'))"
   ]
  },
  {
   "cell_type": "code",
   "execution_count": 24,
   "metadata": {},
   "outputs": [
    {
     "data": {
      "image/png": "[encoded data removed]",
      "text/plain": [
       "<Figure size 1500x1000 with 4 Axes>"
      ]
     },
     "metadata": {},
     "output_type": "display_data"
    }
   ],
   "source": [
    "# plot training/validation loss and accuracy over training time\n",
    "plt.figure(figsize=(15, 10))\n",
    "plt.subplot(221)\n",
    "plt.semilogy(train_losses, color='royalblue')\n",
    "plt.xlabel('Epoch')\n",
    "plt.title('Training loss')\n",
    "plt.grid(True)\n",
    "plt.subplot(222)\n",
    "plt.plot(train_accs, color='darkorange')\n",
    "plt.xlabel('Epoch')\n",
    "plt.title('Training accuracy')\n",
    "plt.grid(True)\n",
    "plt.subplot(223)\n",
    "plt.plot(val_losses, color='royalblue')\n",
    "plt.xlabel('Epoch')\n",
    "plt.title('Validation loss')\n",
    "plt.grid(True)\n",
    "plt.subplot(224)\n",
    "plt.plot(val_accs, color='darkorange')\n",
    "plt.xlabel('Epoch')\n",
    "plt.title('Validation accuracy')\n",
    "plt.grid(True)"
   ]
  },
  {
   "cell_type": "code",
   "execution_count": 35,
   "metadata": {},
   "outputs": [],
   "source": [
    "torch.save(model, 'Models/model1.pt')"
   ]
  },
  {
   "attachments": {},
   "cell_type": "markdown",
   "metadata": {},
   "source": [
    "# Category Testing"
   ]
  },
  {
   "cell_type": "code",
   "execution_count": 17,
   "metadata": {},
   "outputs": [
    {
     "name": "stdout",
     "output_type": "stream",
     "text": [
      "49792 20368\n",
      "10174 4444\n",
      "12322 11168\n",
      "13673 2159\n"
     ]
    }
   ],
   "source": [
    "with open('Category-Testing\\A4_category_tight.npy', 'rb') as f:\n",
    "    A4_PSFs_tight = np.load(f)\n",
    "with open('Category-Testing\\A6_category_tight.npy', 'rb') as f:\n",
    "    A6_PSFs_tight = np.load(f)\n",
    "with open('Category-Testing\\A4_category_worst.npy', 'rb') as f:\n",
    "    A4_PSFs_worst = np.load(f)\n",
    "with open('Category-Testing\\A6_category_worst.npy', 'rb') as f:\n",
    "    A6_PSFs_worst = np.load(f)\n",
    "with open('Category-Testing\\A4_category_bright.npy', 'rb') as f:\n",
    "    A4_PSFs_bright = np.load(f)\n",
    "with open('Category-Testing\\A6_category_bright.npy', 'rb') as f:\n",
    "    A6_PSFs_bright = np.load(f)\n",
    "with open('Category-Testing\\A4_category_dark.npy', 'rb') as f:\n",
    "    A4_PSFs_dark = np.load(f)\n",
    "with open('Category-Testing\\A6_category_dark.npy', 'rb') as f:\n",
    "    A6_PSFs_dark = np.load(f)\n",
    "\n",
    "print(len(A4_PSFs_tight), len(A6_PSFs_tight))\n",
    "print(len(A4_PSFs_worst), len(A6_PSFs_worst))\n",
    "print(len(A4_PSFs_bright), len(A6_PSFs_bright))\n",
    "print(len(A4_PSFs_dark), len(A6_PSFs_dark))"
   ]
  },
  {
   "cell_type": "code",
   "execution_count": 22,
   "metadata": {},
   "outputs": [],
   "source": [
    "raw_categories = {'tight': [A4_PSFs_tight, A6_PSFs_tight], 'worst': [A4_PSFs_worst, A6_PSFs_worst], 'bright': [A4_PSFs_bright, A6_PSFs_bright], 'dark': [A4_PSFs_dark, A6_PSFs_dark]}\n",
    "cat_data = {}\n",
    "cat_indices = {}\n",
    "cat_labels = {}\n",
    "for category in raw_categories:\n",
    "    A4_PSFs_cat = raw_categories[category][0]\n",
    "    A6_PSFs_cat = raw_categories[category][1]\n",
    "\n",
    "    # Reduce the size of the larger dataset (A4-640)\n",
    "    A4_cat_indices = np.random.choice(range(len(A4_PSFs_cat)), len(A6_PSFs_cat))\n",
    "    A4_PSFs_cat_reduced = A4_PSFs_cat[A4_cat_indices]\n",
    "\n",
    "    # Combine, create labels, and reshuffle all\n",
    "    all_cat_data = np.concatenate((A4_PSFs_cat_reduced, A6_PSFs_cat)).astype(np.int32)\n",
    "    these_cat_labels = np.concatenate((np.zeros(len(A4_PSFs_cat_reduced)), np.ones(len(A6_PSFs_cat))))\n",
    "\n",
    "    random_seed = 1 # random seed for reproducibility\n",
    "    np.random.seed(random_seed)\n",
    "    all_cat_indices = np.random.choice(np.arange(len(all_cat_data)), size=len(all_cat_data), replace=False)\n",
    "    \n",
    "    cat_data[category] = all_cat_data\n",
    "    cat_labels[category] = these_cat_labels\n",
    "    cat_indices[category] = all_cat_indices"
   ]
  },
  {
   "cell_type": "code",
   "execution_count": 25,
   "metadata": {},
   "outputs": [
    {
     "name": "stdout",
     "output_type": "stream",
     "text": [
      "torch.Size([40736, 1, 29, 29])\n",
      "torch.Size([8888, 1, 29, 29])\n",
      "torch.Size([22336, 1, 29, 29])\n",
      "torch.Size([4318, 1, 29, 29])\n"
     ]
    }
   ],
   "source": [
    "class Categories_Dateset(Dataset):\n",
    "    def __init__(self, category):\n",
    "        data = cat_data[category]\n",
    "        labels = cat_labels[category]\n",
    "        indices = cat_indices[category]\n",
    "        self.images = torch.from_numpy(data[indices]).unsqueeze(1)\n",
    "        self.labels = torch.from_numpy(labels[indices]).long()\n",
    "        print(self.images.shape)\n",
    "        \n",
    "    def __len__(self):\n",
    "        return len(self.images)\n",
    "    \n",
    "    def __getitem__(self, idx):\n",
    "        return self.images[idx].float(), self.labels[idx]\n",
    "    \n",
    "# make category testing sets\n",
    "Category_Testing = {}\n",
    "for category in cat_data:\n",
    "    Category_Testing[category] = Categories_Dateset(category=category)"
   ]
  },
  {
   "cell_type": "code",
   "execution_count": 33,
   "metadata": {},
   "outputs": [
    {
     "name": "stdout",
     "output_type": "stream",
     "text": [
      "Tight Sorting Accuracy:\n",
      "Accuracy for Class 0: 76.94913589945011%\n",
      "Accuracy for Class 1: 67.28692065985861%\n",
      "Overall Accuracy: 72.11802827965435%\n",
      "\n",
      "Worst Sorting Accuracy:\n",
      "Accuracy for Class 0: 67.91179117911791%\n",
      "Accuracy for Class 1: 58.66336633663366%\n",
      "Overall Accuracy: 63.287578757875785%\n",
      "\n",
      "Bright Sorting Accuracy:\n",
      "Accuracy for Class 0: 76.7102435530086%\n",
      "Accuracy for Class 1: 26.06554441260745%\n",
      "Overall Accuracy: 51.387893982808016%\n",
      "\n",
      "Dark Sorting Accuracy:\n",
      "Accuracy for Class 0: 62.43631310792034%\n",
      "Accuracy for Class 1: 97.40620657711904%\n",
      "Overall Accuracy: 79.92125984251969%\n",
      "\n",
      "Overall Sorting Accuracy:\n",
      "Accuracy for Class 0: 74.28092711533091%\n",
      "Accuracy for Class 1: 66.73250564334086%\n",
      "Overall Accuracy: 70.52631578947368%\n"
     ]
    }
   ],
   "source": [
    "print(\"Tight Sorting Accuracy:\")\n",
    "test_classes(model, Category_Testing['tight'])\n",
    "print(\"\\nWorst Sorting Accuracy:\")\n",
    "test_classes(model, Category_Testing['worst'])\n",
    "print(\"\\nBright Sorting Accuracy:\")\n",
    "test_classes(model, Category_Testing['bright'])\n",
    "print(\"\\nDark Sorting Accuracy:\")\n",
    "test_classes(model, Category_Testing['dark'])\n",
    "print(\"\\nOverall Sorting Accuracy:\")\n",
    "test_classes(model, PSF_testing)"
   ]
  },
  {
   "cell_type": "code",
   "execution_count": null,
   "metadata": {},
   "outputs": [],
   "source": []
  }
 ],
 "metadata": {
  "kernelspec": {
   "display_name": "PyTorch1",
   "language": "python",
   "name": "python3"
  },
  "language_info": {
   "codemirror_mode": {
    "name": "ipython",
    "version": 3
   },
   "file_extension": ".py",
   "mimetype": "text/x-python",
   "name": "python",
   "nbconvert_exporter": "python",
   "pygments_lexer": "ipython3",
   "version": "3.8.16"
  },
  "orig_nbformat": 4
 },
 "nbformat": 4,
 "nbformat_minor": 2
}
