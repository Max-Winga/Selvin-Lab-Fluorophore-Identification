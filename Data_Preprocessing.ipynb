{
 "cells": [
  {
   "cell_type": "code",
   "execution_count": 1,
   "metadata": {},
   "outputs": [],
   "source": [
    "import tifffile\n",
    "import trackpy as tp\n",
    "import numpy as np\n",
    "import matplotlib.pyplot as plt\n",
    "import matplotlib.patches as patches"
   ]
  },
  {
   "cell_type": "code",
   "execution_count": 2,
   "metadata": {},
   "outputs": [],
   "source": [
    "def get_PSF_frame(movie_frame, x, y, frame_size, keep_edges=False):\n",
    "    half_frame = int(frame_size/2)\n",
    "    int_x = round(x); int_y = round(y)\n",
    "    lower_x = int_x - half_frame\n",
    "    lower_y = int_y - half_frame\n",
    "    upper_x = int_x + half_frame + 1\n",
    "    upper_y = int_y + half_frame + 1\n",
    "    upper_limit_x = movie_frame.shape[1]\n",
    "    upper_limit_y = movie_frame.shape[0]\n",
    "    if keep_edges:\n",
    "        if lower_x < 0:\n",
    "            lower_x = 0\n",
    "        if lower_y < 0:\n",
    "            lower_y = 0\n",
    "        if upper_x > upper_limit_x:\n",
    "            upper_x = upper_limit_x\n",
    "        if upper_y > upper_limit_y:\n",
    "            upper_y = upper_limit_y\n",
    "    else:\n",
    "        if lower_x < 0 or lower_y < 0 or upper_x > upper_limit_x or upper_y > upper_limit_y:\n",
    "            return False\n",
    "    return np.array(movie_frame)[lower_y:upper_y, lower_x:upper_x]\n",
    "\n",
    "def get_PSF_frames(movie, frame_size=13, to_plot=False, movie_frames=True):\n",
    "    if type(movie_frames) == bool:\n",
    "        movie_frames = range(len(movie))\n",
    "    # Initialize an empty list to store the full movie frames\n",
    "    full_frames = []\n",
    "    PSF_frames = []\n",
    "\n",
    "    # Loop through each frame in the movie\n",
    "    for i in movie_frames:\n",
    "        # Perform localization on the frame\n",
    "        full_frame = tp.locate(movie[i], diameter=7, \n",
    "                        minmass=200, max_iterations=100,\n",
    "                        separation=2)  # Adjust the minmass parameter as needed\n",
    "\n",
    "        # Add the frame to the list\n",
    "        full_frames.append(frame)\n",
    "\n",
    "        # Plot the frame with the identified features\n",
    "        if to_plot:\n",
    "            fig, ax = plt.subplots(1)\n",
    "            ax.imshow(movie[i], cmap='gray')\n",
    "\n",
    "        # Draw a box around each identified feature\n",
    "        for index, row in full_frame.iterrows():\n",
    "            if to_plot:\n",
    "                rect = patches.Rectangle((row['x']-int(frame_size/2), row['y']-int(frame_size/2)), frame_size, frame_size, linewidth=1, edgecolor='r', facecolor='none')\n",
    "                ax.add_patch(rect)\n",
    "            PSF_frame = get_PSF_frame(movie[i], row['x'], row['y'], frame_size)\n",
    "            if type(PSF_frame) == bool:\n",
    "                continue\n",
    "            PSF_frames.append(PSF_frame)\n",
    "        if to_plot:\n",
    "            plt.title(f'Full Frame {i}')\n",
    "            plt.show()\n",
    "\n",
    "    # Convert the list of frames to a numpy array\n",
    "    frames = np.array(full_frames)\n",
    "    PSF_frames = np.array(PSF_frames)\n",
    "    return PSF_frames"
   ]
  },
  {
   "cell_type": "code",
   "execution_count": null,
   "metadata": {},
   "outputs": [],
   "source": []
  }
 ],
 "metadata": {
  "kernelspec": {
   "display_name": "base",
   "language": "python",
   "name": "python3"
  },
  "language_info": {
   "codemirror_mode": {
    "name": "ipython",
    "version": 3
   },
   "file_extension": ".py",
   "mimetype": "text/x-python",
   "name": "python",
   "nbconvert_exporter": "python",
   "pygments_lexer": "ipython3",
   "version": "3.8.16"
  },
  "orig_nbformat": 4
 },
 "nbformat": 4,
 "nbformat_minor": 2
}
