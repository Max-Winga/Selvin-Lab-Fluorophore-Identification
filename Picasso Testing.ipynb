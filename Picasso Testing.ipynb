{
 "cells": [
  {
   "cell_type": "code",
   "execution_count": 2,
   "id": "69b7cf40",
   "metadata": {
    "ExecuteTime": {
     "end_time": "2023-05-26T17:38:45.932094Z",
     "start_time": "2023-05-26T17:38:45.908119Z"
    }
   },
   "outputs": [
    {
     "ename": "ModuleNotFoundError",
     "evalue": "No module named 'util'",
     "output_type": "error",
     "traceback": [
      "\u001b[1;31m---------------------------------------------------------------------------\u001b[0m",
      "\u001b[1;31mModuleNotFoundError\u001b[0m                       Traceback (most recent call last)",
      "Cell \u001b[1;32mIn[2], line 1\u001b[0m\n\u001b[1;32m----> 1\u001b[0m \u001b[38;5;28;01mimport\u001b[39;00m \u001b[38;5;21;01mpicasso\u001b[39;00m\n",
      "File \u001b[1;32mc:\\users\\icedn\\jupyter\\selvinlab\\selvin-lab-fluorophore-identification\\myenv\\lib\\site-packages\\picasso\\__init__.py:1\u001b[0m\n\u001b[1;32m----> 1\u001b[0m \u001b[38;5;28;01mimport\u001b[39;00m \u001b[38;5;21;01mpump\u001b[39;00m\n\u001b[0;32m      3\u001b[0m \u001b[38;5;28;01mfrom\u001b[39;00m \u001b[38;5;21;01msetup\u001b[39;00m \u001b[38;5;28;01mimport\u001b[39;00m setup_api, setup_app\n\u001b[0;32m      4\u001b[0m \u001b[38;5;28;01mfrom\u001b[39;00m \u001b[38;5;21;01mrouting\u001b[39;00m \u001b[38;5;28;01mimport\u001b[39;00m GET, POST, PUT, DELETE, HEAD, ANY\n",
      "File \u001b[1;32mc:\\users\\icedn\\jupyter\\selvinlab\\selvin-lab-fluorophore-identification\\myenv\\lib\\site-packages\\pump\\__init__.py:7\u001b[0m\n\u001b[0;32m      1\u001b[0m \u001b[38;5;66;03m# **Pump** is a dead simple Pythonic abstraction of HTTP.\u001b[39;00m\n\u001b[0;32m      2\u001b[0m \n\u001b[0;32m      3\u001b[0m \u001b[38;5;66;03m# # Table of contents\u001b[39;00m\n\u001b[0;32m      4\u001b[0m \n\u001b[0;32m      5\u001b[0m \u001b[38;5;66;03m# The [util](util/) package contains code for working with\u001b[39;00m\n\u001b[0;32m      6\u001b[0m \u001b[38;5;66;03m# Pump responses and dealing with WSGI objects.\u001b[39;00m\n\u001b[1;32m----> 7\u001b[0m \u001b[38;5;28;01mimport\u001b[39;00m \u001b[38;5;21;01mutil\u001b[39;00m\n\u001b[0;32m      9\u001b[0m \u001b[38;5;66;03m# The [middleware](middleware/) package contains useful middleware\u001b[39;00m\n\u001b[0;32m     10\u001b[0m \u001b[38;5;66;03m# that you can use in your Pump app.\u001b[39;00m\n\u001b[0;32m     11\u001b[0m \u001b[38;5;28;01mimport\u001b[39;00m \u001b[38;5;21;01mmiddleware\u001b[39;00m\n",
      "\u001b[1;31mModuleNotFoundError\u001b[0m: No module named 'util'"
     ]
    }
   ],
   "source": [
    "import picasso"
   ]
  },
  {
   "cell_type": "code",
   "execution_count": 3,
   "id": "b4fac627",
   "metadata": {
    "ExecuteTime": {
     "end_time": "2023-05-26T17:24:21.544703Z",
     "start_time": "2023-05-26T17:24:21.541341Z"
    }
   },
   "outputs": [
    {
     "name": "stdout",
     "output_type": "stream",
     "text": [
      "C:\\Users\\icedn\\Jupyter\\SelvinLab\\Selvin-Lab-Fluorophore-Identification\n"
     ]
    }
   ],
   "source": []
  },
  {
   "cell_type": "code",
   "execution_count": null,
   "id": "b878265a",
   "metadata": {},
   "outputs": [],
   "source": []
  }
 ],
 "metadata": {
  "kernelspec": {
   "display_name": "Python 3 (ipykernel)",
   "language": "python",
   "name": "python3"
  },
  "language_info": {
   "codemirror_mode": {
    "name": "ipython",
    "version": 3
   },
   "file_extension": ".py",
   "mimetype": "text/x-python",
   "name": "python",
   "nbconvert_exporter": "python",
   "pygments_lexer": "ipython3",
   "version": "3.8.10"
  },
  "varInspector": {
   "cols": {
    "lenName": 16,
    "lenType": 16,
    "lenVar": 40
   },
   "kernels_config": {
    "python": {
     "delete_cmd_postfix": "",
     "delete_cmd_prefix": "del ",
     "library": "var_list.py",
     "varRefreshCmd": "print(var_dic_list())"
    },
    "r": {
     "delete_cmd_postfix": ") ",
     "delete_cmd_prefix": "rm(",
     "library": "var_list.r",
     "varRefreshCmd": "cat(var_dic_list()) "
    }
   },
   "types_to_exclude": [
    "module",
    "function",
    "builtin_function_or_method",
    "instance",
    "_Feature"
   ],
   "window_display": false
  }
 },
 "nbformat": 4,
 "nbformat_minor": 5
}
