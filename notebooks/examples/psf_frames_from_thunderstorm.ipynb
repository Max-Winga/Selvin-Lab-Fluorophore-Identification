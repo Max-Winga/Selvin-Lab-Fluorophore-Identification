{
 "cells": [
  {
   "cell_type": "code",
   "execution_count": 7,
   "metadata": {},
   "outputs": [],
   "source": [
    "import os\n",
    "import sys\n",
    "ROOT = \"..\\\\..\\\\\"\n",
    "sys.path.append(ROOT) # Add root directory to path\n",
    "\n",
    "from src.preprocessing.localization_preprocessing import Localizations"
   ]
  },
  {
   "cell_type": "code",
   "execution_count": 8,
   "metadata": {},
   "outputs": [
    {
     "ename": "OSError",
     "evalue": "[Errno 22] Invalid argument: '..\\\\..\\\\src\\\\data\\raw\\\\single_fov_standard_psf\\\\single_dye\\\\AF647_coverslip\\\\localizations\\\\A647-GoatAntiMouse-No1CG-100EMG-50ms_2_40mW-protocol.txt'",
     "output_type": "error",
     "traceback": [
      "\u001b[1;31m---------------------------------------------------------------------------\u001b[0m",
      "\u001b[1;31mOSError\u001b[0m                                   Traceback (most recent call last)",
      "\u001b[1;32mc:\\Users\\icedn\\Jupyter\\SelvinLab\\Selvin-Lab-Fluorophore-Identification\\notebooks\\examples\\psf_frames_from_thunderstorm.ipynb Cell 2\u001b[0m in \u001b[0;36m<cell line: 1>\u001b[1;34m()\u001b[0m\n\u001b[1;32m----> <a href='vscode-notebook-cell:/c%3A/Users/icedn/Jupyter/SelvinLab/Selvin-Lab-Fluorophore-Identification/notebooks/examples/psf_frames_from_thunderstorm.ipynb#W1sZmlsZQ%3D%3D?line=0'>1</a>\u001b[0m example_locs \u001b[39m=\u001b[39m Localizations(path\u001b[39m=\u001b[39;49mos\u001b[39m.\u001b[39;49mpath\u001b[39m.\u001b[39;49mjoin(ROOT, \u001b[39m\"\u001b[39;49m\u001b[39msrc\u001b[39;49m\u001b[39m\\\u001b[39;49m\u001b[39mdata\u001b[39;49m\u001b[39m\\r\u001b[39;49;00m\u001b[39maw\u001b[39;49m\u001b[39m\\\u001b[39;49m\u001b[39msingle_fov_standard_psf\u001b[39;49m\u001b[39m\\\u001b[39;49m\u001b[39msingle_dye\u001b[39;49m\u001b[39m\\\u001b[39;49m\u001b[39mAF647_coverslip\u001b[39;49m\u001b[39m\"\u001b[39;49m), \n\u001b[0;32m      <a href='vscode-notebook-cell:/c%3A/Users/icedn/Jupyter/SelvinLab/Selvin-Lab-Fluorophore-Identification/notebooks/examples/psf_frames_from_thunderstorm.ipynb#W1sZmlsZQ%3D%3D?line=1'>2</a>\u001b[0m                              filename\u001b[39m=\u001b[39;49m\u001b[39m\"\u001b[39;49m\u001b[39mA647-GoatAntiMouse-No1CG-100EMG-50ms_2_40mW\u001b[39;49m\u001b[39m\"\u001b[39;49m,\n\u001b[0;32m      <a href='vscode-notebook-cell:/c%3A/Users/icedn/Jupyter/SelvinLab/Selvin-Lab-Fluorophore-Identification/notebooks/examples/psf_frames_from_thunderstorm.ipynb#W1sZmlsZQ%3D%3D?line=2'>3</a>\u001b[0m                              psf_frame_size\u001b[39m=\u001b[39;49m\u001b[39m19\u001b[39;49m)\n",
      "File \u001b[1;32mc:\\Users\\icedn\\Jupyter\\SelvinLab\\Selvin-Lab-Fluorophore-Identification\\notebooks\\examples\\../..\\src\\preprocessing\\localization_preprocessing.py:16\u001b[0m, in \u001b[0;36mLocalizations.__init__\u001b[1;34m(self, path, filename, psf_frame_size)\u001b[0m\n\u001b[0;32m     13\u001b[0m localization_path \u001b[39m=\u001b[39m os\u001b[39m.\u001b[39mpath\u001b[39m.\u001b[39mjoin(path, \u001b[39m\"\u001b[39m\u001b[39mlocalizations\u001b[39m\u001b[39m\"\u001b[39m, filename \u001b[39m+\u001b[39m \u001b[39m\"\u001b[39m\u001b[39m.csv\u001b[39m\u001b[39m\"\u001b[39m)\n\u001b[0;32m     14\u001b[0m movie_path \u001b[39m=\u001b[39m os\u001b[39m.\u001b[39mpath\u001b[39m.\u001b[39mjoin(path, \u001b[39m\"\u001b[39m\u001b[39mmovies\u001b[39m\u001b[39m\"\u001b[39m, filename \u001b[39m+\u001b[39m \u001b[39m\"\u001b[39m\u001b[39m.tif\u001b[39m\u001b[39m\"\u001b[39m)\n\u001b[1;32m---> 16\u001b[0m \u001b[39mself\u001b[39;49m\u001b[39m.\u001b[39;49mget_pixel_size(protocol_path)\n\u001b[0;32m     17\u001b[0m \u001b[39mself\u001b[39m\u001b[39m.\u001b[39mmovie \u001b[39m=\u001b[39m \u001b[39mself\u001b[39m\u001b[39m.\u001b[39mload_tif_movie(movie_path)\n\u001b[0;32m     18\u001b[0m \u001b[39mself\u001b[39m\u001b[39m.\u001b[39mlocalizations \u001b[39m=\u001b[39m \u001b[39mself\u001b[39m\u001b[39m.\u001b[39mload_localizations(localization_path)\n",
      "File \u001b[1;32mc:\\Users\\icedn\\Jupyter\\SelvinLab\\Selvin-Lab-Fluorophore-Identification\\notebooks\\examples\\../..\\src\\preprocessing\\localization_preprocessing.py:30\u001b[0m, in \u001b[0;36mLocalizations.get_pixel_size\u001b[1;34m(self, path)\u001b[0m\n\u001b[0;32m     28\u001b[0m \u001b[39mdef\u001b[39;00m \u001b[39mget_pixel_size\u001b[39m(\u001b[39mself\u001b[39m, path):\n\u001b[0;32m     29\u001b[0m     pixel_size \u001b[39m=\u001b[39m \u001b[39mNone\u001b[39;00m\n\u001b[1;32m---> 30\u001b[0m     \u001b[39mwith\u001b[39;00m \u001b[39mopen\u001b[39;49m(path, \u001b[39m'\u001b[39;49m\u001b[39mr\u001b[39;49m\u001b[39m'\u001b[39;49m) \u001b[39mas\u001b[39;00m file:\n\u001b[0;32m     31\u001b[0m         \u001b[39mfor\u001b[39;00m line \u001b[39min\u001b[39;00m file:\n\u001b[0;32m     32\u001b[0m             line \u001b[39m=\u001b[39m line\u001b[39m.\u001b[39mstrip()  \u001b[39m# remove leading/trailing white space\u001b[39;00m\n",
      "\u001b[1;31mOSError\u001b[0m: [Errno 22] Invalid argument: '..\\\\..\\\\src\\\\data\\raw\\\\single_fov_standard_psf\\\\single_dye\\\\AF647_coverslip\\\\localizations\\\\A647-GoatAntiMouse-No1CG-100EMG-50ms_2_40mW-protocol.txt'"
     ]
    }
   ],
   "source": [
    "example_locs = Localizations(path=os.path.join(ROOT, \"src\\data\\raw\\single_fov_standard_psf\\single_dye\\AF647_coverslip\"), \n",
    "                             filename=\"A647-GoatAntiMouse-No1CG-100EMG-50ms_2_40mW\",\n",
    "                             psf_frame_size=19)"
   ]
  },
  {
   "cell_type": "markdown",
   "metadata": {},
   "source": []
  },
  {
   "cell_type": "code",
   "execution_count": null,
   "metadata": {},
   "outputs": [],
   "source": []
  }
 ],
 "metadata": {
  "kernelspec": {
   "display_name": "PyTorch",
   "language": "python",
   "name": "python3"
  },
  "language_info": {
   "codemirror_mode": {
    "name": "ipython",
    "version": 3
   },
   "file_extension": ".py",
   "mimetype": "text/x-python",
   "name": "python",
   "nbconvert_exporter": "python",
   "pygments_lexer": "ipython3",
   "version": "3.8.16"
  },
  "orig_nbformat": 4
 },
 "nbformat": 4,
 "nbformat_minor": 2
}
